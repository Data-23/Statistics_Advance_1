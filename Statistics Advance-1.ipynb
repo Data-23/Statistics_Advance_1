{
 "cells": [
  {
   "cell_type": "code",
   "execution_count": null,
   "id": "4d5f3654",
   "metadata": {},
   "outputs": [],
   "source": [
    "#Q1"
   ]
  },
  {
   "cell_type": "code",
   "execution_count": null,
   "id": "bc3b03e0",
   "metadata": {},
   "outputs": [],
   "source": [
    "# A Probability Density Function (PDF) describes the likelihood of a continuous random variable taking on a particular value. The PDF is denoted by \n",
    "# 𝑓(𝑥)\n",
    "# f(x) for a continuous random variable \n",
    "# 𝑋\n",
    "# X. The PDF has the following properties:\n",
    "\n",
    "# Non-negativity:\n",
    "\n",
    "\n",
    "# f(x)≥0∀x\n",
    "# Normalization:\n",
    "# The total area under the PDF curve is equal to 1, which reflects the fact that the random variable \n",
    "# 𝑋\n",
    "# X must take on some value within the possible range.\n",
    "\n",
    "\n",
    "# f(x)dx=1\n",
    "\n",
    "# PDF (Probability Density Function): Describes the likelihood of a continuous random variable taking on specific values.\n",
    "# Properties: Non-negative, integrates to 1 over the entire space.\n",
    "# Usage: Used to compute probabilities for intervals by integrating the PDF."
   ]
  },
  {
   "cell_type": "code",
   "execution_count": null,
   "id": "80ee52c1",
   "metadata": {},
   "outputs": [],
   "source": [
    "#Q2"
   ]
  },
  {
   "cell_type": "code",
   "execution_count": null,
   "id": "3874be68",
   "metadata": {},
   "outputs": [],
   "source": [
    "# Probability distributions describe how the \n",
    "# values of a random variable are distributed. There are several types of \n",
    "# probability distributions, which can broadly be classified \n",
    "# into two categories: discrete and continuous distributions.\n",
    "    \n",
    "# Discrete Probability Distributions\n",
    "\n",
    "# Bernoulli Distribution:\n",
    "\n",
    "# Represents a random experiment with exactly \n",
    "# two outcomes: success (1) and failure (0).\n",
    "\n",
    "    \n",
    "# Binomial Distribution:\n",
    "\n",
    "# Describes the number of \n",
    "# successes in a fixed number of independent Bernoulli trials.\n",
    "\n",
    "\n",
    "# Poisson Distribution:\n",
    "\n",
    "# Describes the number of \n",
    "# events occurring within a fixed interval of time or space.\n",
    "\n",
    "\n",
    "# Continuous Probability Distributions\n",
    "\n",
    "# Uniform Distribution:\n",
    "\n",
    "# All outcomes are equally likely within a certain range \n",
    "\n",
    "# The probability density function (PDF) \n",
    "\n",
    "\n",
    "# Normal (Gaussian) Distribution:\n",
    "\n",
    "# Describes data that cluster around the mean.\n",
    "\n",
    "\n",
    "# Describes the time between events in a Poisson process.\n",
    "# The PDF is \n",
    "\n",
    "# f(x)=λe \n",
    "# −λx\n",
    "#   for \n",
    "# 𝑥\n",
    "# ≥\n",
    "# 0\n",
    "# x≥0, where \n",
    "# 𝜆\n",
    "# λ is the rate parameter.\n",
    "\n",
    "\n",
    "# Chi-Squared Distribution:\n",
    "\n",
    "# Describes the distribution of a sum of the squares of \n",
    "# 𝑘\n",
    "# k independent standard normal random variables\n",
    "\n",
    "\n"
   ]
  },
  {
   "cell_type": "code",
   "execution_count": null,
   "id": "f89fd194",
   "metadata": {},
   "outputs": [],
   "source": [
    "#Q3"
   ]
  },
  {
   "cell_type": "code",
   "execution_count": 1,
   "id": "72abf463",
   "metadata": {},
   "outputs": [
    {
     "name": "stdout",
     "output_type": "stream",
     "text": [
      "The PDF of the normal distribution at x = 1 is: 0.24197072451914337\n"
     ]
    }
   ],
   "source": [
    "import math\n",
    "\n",
    "def normal_pdf(x, mean, std_dev):\n",
    "    \"\"\"\n",
    "    Calculate the probability density function (PDF) of a normal distribution\n",
    "    at a given point x.\n",
    "\n",
    "    Parameters:\n",
    "    x (float): The point at which to calculate the PDF.\n",
    "    mean (float): The mean (μ) of the normal distribution.\n",
    "    std_dev (float): The standard deviation (σ) of the normal distribution.\n",
    "\n",
    "    Returns:\n",
    "    float: The value of the PDF at point x.\n",
    "    \"\"\"\n",
    "    # Calculate the coefficient part of the PDF formula\n",
    "    coefficient = 1 / (std_dev * math.sqrt(2 * math.pi))\n",
    "    \n",
    "    # Calculate the exponent part of the PDF formula\n",
    "    exponent = -((x - mean) ** 2) / (2 * (std_dev ** 2))\n",
    "    \n",
    "    # Calculate the PDF value\n",
    "    pdf_value = coefficient * math.exp(exponent)\n",
    "    \n",
    "    return pdf_value\n",
    "\n",
    "# Example usage\n",
    "mean = 0\n",
    "std_dev = 1\n",
    "x = 1\n",
    "pdf_value = normal_pdf(x, mean, std_dev)\n",
    "print(f\"The PDF of the normal distribution at x = {x} is: {pdf_value}\")\n"
   ]
  },
  {
   "cell_type": "code",
   "execution_count": null,
   "id": "9ed4451c",
   "metadata": {},
   "outputs": [],
   "source": [
    "#Q4"
   ]
  },
  {
   "cell_type": "code",
   "execution_count": null,
   "id": "dbcc2874",
   "metadata": {},
   "outputs": [],
   "source": [
    "# The Binomial distribution is a discrete probability distribution that describes the number of successes in a fixed number of independent trials, each with the same probability of success. Here are the key properties:\n",
    "\n",
    "# Fixed Number of Trials (n):\n",
    "# The number of trials, \n",
    "# 𝑛\n",
    "# n, is fixed and finite.\n",
    "\n",
    "# Two Possible Outcomes:\n",
    "# Each trial has only two possible outcomes: success (usually denoted as 1) or failure (usually denoted as 0).\n",
    "\n",
    "# Constant Probability of Success (p):\n",
    "# The probability of success, \n",
    "# 𝑝\n",
    "# p, is the same for each trial. The probability of failure is \n",
    "# 𝑞\n",
    "# =\n",
    "# 1\n",
    "# −\n",
    "# 𝑝\n",
    "# q=1−p.\n",
    "\n",
    "# Independence:\n",
    "# The outcomes of the trials are independent. The result of one trial does not affect the result of another trial.\n",
    "\n",
    "# Discrete Distribution:\n",
    "# The binomial distribution is discrete, meaning it only takes on integer values from 0 to \n",
    "# 𝑛\n",
    "# n.\n",
    "\n"
   ]
  },
  {
   "cell_type": "code",
   "execution_count": null,
   "id": "54aa905a",
   "metadata": {},
   "outputs": [],
   "source": [
    "#Q5"
   ]
  },
  {
   "cell_type": "code",
   "execution_count": 2,
   "id": "277d077f",
   "metadata": {},
   "outputs": [
    {
     "data": {
      "image/png": "[encoded data removed]",
      "text/plain": [
       "<Figure size 1000x600 with 1 Axes>"
      ]
     },
     "metadata": {},
     "output_type": "display_data"
    }
   ],
   "source": [
    "import numpy as np\n",
    "import matplotlib.pyplot as plt\n",
    "\n",
    "# Parameters\n",
    "n = 1000   # sample size\n",
    "p = 0.4    # probability of success\n",
    "trials = 10  # number of trials in each binomial experiment\n",
    "\n",
    "# Generate a random sample from a binomial distribution\n",
    "random_sample = np.random.binomial(trials, p, n)\n",
    "\n",
    "# Plot a histogram of the results\n",
    "plt.figure(figsize=(10, 6))\n",
    "plt.hist(random_sample, bins=range(trials + 2), edgecolor='black', align='left')\n",
    "plt.title('Histogram of Binomial Distribution (n=10, p=0.4)')\n",
    "plt.xlabel('Number of Successes')\n",
    "plt.ylabel('Frequency')\n",
    "plt.xticks(range(trials + 1))\n",
    "plt.grid(True)\n",
    "plt.show()\n"
   ]
  },
  {
   "cell_type": "code",
   "execution_count": null,
   "id": "caa8610f",
   "metadata": {},
   "outputs": [],
   "source": [
    "#Q6"
   ]
  },
  {
   "cell_type": "code",
   "execution_count": 3,
   "id": "92feae9a",
   "metadata": {},
   "outputs": [
    {
     "name": "stdout",
     "output_type": "stream",
     "text": [
      "The CDF of the Poisson distribution at k = 5 with mean = 3 is: 0.9160820579686966\n"
     ]
    }
   ],
   "source": [
    "import math\n",
    "from scipy.stats import poisson\n",
    "\n",
    "def poisson_cdf(k, lam):\n",
    "    \"\"\"\n",
    "    Calculate the cumulative distribution function (CDF) of a Poisson distribution\n",
    "    with given mean (λ) at a given point k.\n",
    "\n",
    "    Parameters:\n",
    "    k (int): The point at which to calculate the CDF.\n",
    "    lam (float): The mean (λ) of the Poisson distribution.\n",
    "\n",
    "    Returns:\n",
    "    float: The value of the CDF at point k.\n",
    "    \"\"\"\n",
    "    # Calculate the CDF value using the scipy library\n",
    "    cdf_value = poisson.cdf(k, lam)\n",
    "    \n",
    "    return cdf_value\n",
    "\n",
    "# Example usage\n",
    "mean = 3  # mean (λ) of the Poisson distribution\n",
    "k = 5     # point at which to calculate the CDF\n",
    "cdf_value = poisson_cdf(k, mean)\n",
    "print(f\"The CDF of the Poisson distribution at k = {k} with mean = {mean} is: {cdf_value}\")\n"
   ]
  },
  {
   "cell_type": "code",
   "execution_count": null,
   "id": "accb44a9",
   "metadata": {},
   "outputs": [],
   "source": [
    "#Q7"
   ]
  },
  {
   "cell_type": "code",
   "execution_count": null,
   "id": "9faad63d",
   "metadata": {},
   "outputs": [],
   "source": [
    "# Binomial Distribution: Suitable for a fixed number of trials \n",
    "#with two possible outcomes.\n",
    "# Poisson Distribution: Suitable for counting the number \n",
    "#of events in a fixed interval with a constant average rate of occurrence."
   ]
  },
  {
   "cell_type": "code",
   "execution_count": null,
   "id": "bad5cc94",
   "metadata": {},
   "outputs": [],
   "source": [
    "#Q8"
   ]
  },
  {
   "cell_type": "code",
   "execution_count": 4,
   "id": "f6ff83d4",
   "metadata": {},
   "outputs": [
    {
     "name": "stdout",
     "output_type": "stream",
     "text": [
      "Sample mean: 5.015\n",
      "Sample variance: 4.9167749999999995\n"
     ]
    }
   ],
   "source": [
    "import numpy as np\n",
    "\n",
    "# Parameters\n",
    "sample_size = 1000\n",
    "mean_lambda = 5\n",
    "\n",
    "# Generate a random sample from a Poisson distribution\n",
    "random_sample = np.random.poisson(mean_lambda, sample_size)\n",
    "\n",
    "# Calculate the sample mean and variance\n",
    "sample_mean = np.mean(random_sample)\n",
    "sample_variance = np.var(random_sample)\n",
    "\n",
    "# Print the results\n",
    "print(f\"Sample mean: {sample_mean}\")\n",
    "print(f\"Sample variance: {sample_variance}\")\n"
   ]
  },
  {
   "cell_type": "code",
   "execution_count": null,
   "id": "ed197552",
   "metadata": {},
   "outputs": [],
   "source": [
    "#Q9"
   ]
  },
  {
   "cell_type": "code",
   "execution_count": null,
   "id": "c01ad220",
   "metadata": {},
   "outputs": [],
   "source": [
    "# Binomial Distribution:\n",
    "\n",
    "# The mean and variance depend on both the number of trials \n",
    "# 𝑛\n",
    "# n and the probability of success \n",
    "# 𝑝\n",
    "# p.\n",
    "# The variance is affected by both \n",
    "# 𝑛\n",
    "# n and \n",
    "# 𝑝\n",
    "# p, and specifically it decreases as \n",
    "# 𝑝\n",
    "# p approaches 0 or 1 (for a fixed \n",
    "# 𝑛\n",
    "# n).\n",
    "# Poisson Distribution:\n",
    "\n",
    "# The mean and variance are both equal to \n",
    "# 𝜆\n",
    "# λ, the rate parameter.\n",
    "# The Poisson distribution is often used as an approximation to the Binomial distribution when \n",
    "# 𝑛\n",
    "# n is large and \n",
    "# 𝑝\n",
    "# p is small, such that \n",
    "# 𝑛\n",
    "# 𝑝\n",
    "# np (the mean) remains constant."
   ]
  },
  {
   "cell_type": "code",
   "execution_count": null,
   "id": "ba0aa607",
   "metadata": {},
   "outputs": [],
   "source": [
    "#Q10"
   ]
  },
  {
   "cell_type": "code",
   "execution_count": null,
   "id": "1a2b75df",
   "metadata": {},
   "outputs": [],
   "source": [
    "# n a normal distribution, the least frequent data points occur at the tails, which are the extreme ends of the distribution, farthest away from the mean.\n",
    "\n",
    "# Specifically:\n",
    "\n",
    "# In a standard normal distribution (with a mean of 0 and a standard deviation of 1), the least frequent data points are located in the tails beyond approximately ±2 standard deviations from the mean.\n",
    "# Beyond this range, the probability density rapidly decreases, indicating that data points in these regions are much less likely to occur compared to those closer to the mean.\n",
    "# So, in summary, the least frequent data points in a normal distribution appear in the tails, farthest away from the mean."
   ]
  },
  {
   "cell_type": "code",
   "execution_count": null,
   "id": "ad057735",
   "metadata": {},
   "outputs": [],
   "source": []
  }
 ],
 "metadata": {
  "kernelspec": {
   "display_name": "Python 3",
   "language": "python",
   "name": "python3"
  },
  "language_info": {
   "codemirror_mode": {
    "name": "ipython",
    "version": 3
   },
   "file_extension": ".py",
   "mimetype": "text/x-python",
   "name": "python",
   "nbconvert_exporter": "python",
   "pygments_lexer": "ipython3",
   "version": "3.11.3"
  }
 },
 "nbformat": 4,
 "nbformat_minor": 5
}
